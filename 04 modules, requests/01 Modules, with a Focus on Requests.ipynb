{
 "cells": [
  {
   "cell_type": "markdown",
   "metadata": {},
   "source": [
    "# Modules, with a Focus on Requests"
   ]
  },
  {
   "cell_type": "markdown",
   "metadata": {},
   "source": [
    "# First the imports"
   ]
  },
  {
   "cell_type": "code",
   "execution_count": 1,
   "metadata": {
    "collapsed": true
   },
   "outputs": [],
   "source": [
    "import json #reading the format\n",
    "import urllib.request #to pull website in \n",
    "import ast #hilft bei der Auslese des Textes"
   ]
  },
  {
   "cell_type": "code",
   "execution_count": null,
   "metadata": {
    "collapsed": true
   },
   "outputs": [],
   "source": [
    "request = urllib.request.Request(\n",
    "        'http://ws-old.parlament.ch/affairs?pageNumber=1&format=json',\n",
    "        headers={'User-Agent': 'Mozilla'})\n",
    "connection = urllib.request.urlopen(request)\n",
    "js = connection.read()\n",
    "info = json.loads(js.decode(\"utf-8\"))\n",
    "file = open('json_vorstösse_IDs/'+str(elem)+'.json', 'w')\n",
    "file.write(str(info))\n",
    "file.close()"
   ]
  }
 ],
 "metadata": {
  "kernelspec": {
   "display_name": "Python 3",
   "language": "python",
   "name": "python3"
  },
  "language_info": {
   "codemirror_mode": {
    "name": "ipython",
    "version": 3
   },
   "file_extension": ".py",
   "mimetype": "text/x-python",
   "name": "python",
   "nbconvert_exporter": "python",
   "pygments_lexer": "ipython3",
   "version": "3.5.1"
  }
 },
 "nbformat": 4,
 "nbformat_minor": 2
}
